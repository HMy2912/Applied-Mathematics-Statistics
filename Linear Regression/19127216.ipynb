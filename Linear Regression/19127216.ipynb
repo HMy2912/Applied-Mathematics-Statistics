{
 "cells": [
  {
   "cell_type": "markdown",
   "id": "9619dae1",
   "metadata": {},
   "source": [
    "### Import libraries"
   ]
  },
  {
   "cell_type": "code",
   "execution_count": 1,
   "id": "d6915c7d",
   "metadata": {},
   "outputs": [],
   "source": [
    "import numpy as np\n",
    "import pandas as pd\n",
    "from sklearn.model_selection import train_test_split \n",
    "from sklearn.linear_model import LinearRegression, LogisticRegression\n",
    "from IPython.display import display, Markdown\n",
    "from sklearn import metrics \n",
    "import statsmodels.api as sm\n",
    "from sklearn.model_selection import KFold, StratifiedKFold, cross_val_score\n",
    "from sklearn import linear_model, tree, ensemble"
   ]
  },
  {
   "cell_type": "markdown",
   "id": "9e9a442a",
   "metadata": {},
   "source": [
    "### Get the dataset"
   ]
  },
  {
   "cell_type": "code",
   "execution_count": 2,
   "id": "6231f39e",
   "metadata": {},
   "outputs": [],
   "source": [
    "dataset = pd.read_csv('wine.csv', sep=';')"
   ]
  },
  {
   "cell_type": "markdown",
   "id": "405dab6d",
   "metadata": {},
   "source": [
    "### Describe data"
   ]
  },
  {
   "cell_type": "code",
   "execution_count": 3,
   "id": "35223aec",
   "metadata": {
    "scrolled": false
   },
   "outputs": [
    {
     "data": {
      "text/html": [
       "<div>\n",
       "<style scoped>\n",
       "    .dataframe tbody tr th:only-of-type {\n",
       "        vertical-align: middle;\n",
       "    }\n",
       "\n",
       "    .dataframe tbody tr th {\n",
       "        vertical-align: top;\n",
       "    }\n",
       "\n",
       "    .dataframe thead th {\n",
       "        text-align: right;\n",
       "    }\n",
       "</style>\n",
       "<table border=\"1\" class=\"dataframe\">\n",
       "  <thead>\n",
       "    <tr style=\"text-align: right;\">\n",
       "      <th></th>\n",
       "      <th>fixed acidity</th>\n",
       "      <th>volatile acidity</th>\n",
       "      <th>citric acid</th>\n",
       "      <th>residual sugar</th>\n",
       "      <th>chlorides</th>\n",
       "      <th>free sulfur dioxide</th>\n",
       "      <th>total sulfur dioxide</th>\n",
       "      <th>density</th>\n",
       "      <th>pH</th>\n",
       "      <th>sulphates</th>\n",
       "      <th>alcohol</th>\n",
       "      <th>quality</th>\n",
       "    </tr>\n",
       "  </thead>\n",
       "  <tbody>\n",
       "    <tr>\n",
       "      <th>count</th>\n",
       "      <td>1200.000000</td>\n",
       "      <td>1200.000000</td>\n",
       "      <td>1200.000000</td>\n",
       "      <td>1200.000000</td>\n",
       "      <td>1200.000000</td>\n",
       "      <td>1200.000000</td>\n",
       "      <td>1200.000000</td>\n",
       "      <td>1200.000000</td>\n",
       "      <td>1200.000000</td>\n",
       "      <td>1200.000000</td>\n",
       "      <td>1200.000000</td>\n",
       "      <td>1200.000000</td>\n",
       "    </tr>\n",
       "    <tr>\n",
       "      <th>mean</th>\n",
       "      <td>8.622250</td>\n",
       "      <td>0.519317</td>\n",
       "      <td>0.293108</td>\n",
       "      <td>2.563333</td>\n",
       "      <td>0.089226</td>\n",
       "      <td>15.243333</td>\n",
       "      <td>46.883333</td>\n",
       "      <td>0.997055</td>\n",
       "      <td>3.299175</td>\n",
       "      <td>0.665675</td>\n",
       "      <td>10.384833</td>\n",
       "      <td>5.665000</td>\n",
       "    </tr>\n",
       "    <tr>\n",
       "      <th>std</th>\n",
       "      <td>1.784124</td>\n",
       "      <td>0.179246</td>\n",
       "      <td>0.196851</td>\n",
       "      <td>1.264527</td>\n",
       "      <td>0.048310</td>\n",
       "      <td>10.206171</td>\n",
       "      <td>33.935027</td>\n",
       "      <td>0.001882</td>\n",
       "      <td>0.157441</td>\n",
       "      <td>0.175861</td>\n",
       "      <td>1.093145</td>\n",
       "      <td>0.809313</td>\n",
       "    </tr>\n",
       "    <tr>\n",
       "      <th>min</th>\n",
       "      <td>4.600000</td>\n",
       "      <td>0.120000</td>\n",
       "      <td>0.000000</td>\n",
       "      <td>0.900000</td>\n",
       "      <td>0.012000</td>\n",
       "      <td>1.000000</td>\n",
       "      <td>6.000000</td>\n",
       "      <td>0.990070</td>\n",
       "      <td>2.740000</td>\n",
       "      <td>0.330000</td>\n",
       "      <td>8.400000</td>\n",
       "      <td>3.000000</td>\n",
       "    </tr>\n",
       "    <tr>\n",
       "      <th>25%</th>\n",
       "      <td>7.300000</td>\n",
       "      <td>0.390000</td>\n",
       "      <td>0.120000</td>\n",
       "      <td>1.900000</td>\n",
       "      <td>0.071000</td>\n",
       "      <td>7.000000</td>\n",
       "      <td>21.000000</td>\n",
       "      <td>0.996000</td>\n",
       "      <td>3.197500</td>\n",
       "      <td>0.560000</td>\n",
       "      <td>9.500000</td>\n",
       "      <td>5.000000</td>\n",
       "    </tr>\n",
       "    <tr>\n",
       "      <th>50%</th>\n",
       "      <td>8.300000</td>\n",
       "      <td>0.500000</td>\n",
       "      <td>0.285000</td>\n",
       "      <td>2.200000</td>\n",
       "      <td>0.080000</td>\n",
       "      <td>13.000000</td>\n",
       "      <td>38.000000</td>\n",
       "      <td>0.997015</td>\n",
       "      <td>3.300000</td>\n",
       "      <td>0.620000</td>\n",
       "      <td>10.000000</td>\n",
       "      <td>6.000000</td>\n",
       "    </tr>\n",
       "    <tr>\n",
       "      <th>75%</th>\n",
       "      <td>9.600000</td>\n",
       "      <td>0.630000</td>\n",
       "      <td>0.450000</td>\n",
       "      <td>2.700000</td>\n",
       "      <td>0.092000</td>\n",
       "      <td>21.000000</td>\n",
       "      <td>63.000000</td>\n",
       "      <td>0.998173</td>\n",
       "      <td>3.390000</td>\n",
       "      <td>0.732500</td>\n",
       "      <td>11.000000</td>\n",
       "      <td>6.000000</td>\n",
       "    </tr>\n",
       "    <tr>\n",
       "      <th>max</th>\n",
       "      <td>15.900000</td>\n",
       "      <td>1.330000</td>\n",
       "      <td>1.000000</td>\n",
       "      <td>15.500000</td>\n",
       "      <td>0.611000</td>\n",
       "      <td>68.000000</td>\n",
       "      <td>289.000000</td>\n",
       "      <td>1.003200</td>\n",
       "      <td>4.010000</td>\n",
       "      <td>2.000000</td>\n",
       "      <td>14.900000</td>\n",
       "      <td>8.000000</td>\n",
       "    </tr>\n",
       "  </tbody>\n",
       "</table>\n",
       "</div>"
      ],
      "text/plain": [
       "       fixed acidity  volatile acidity  citric acid  residual sugar  \\\n",
       "count    1200.000000       1200.000000  1200.000000     1200.000000   \n",
       "mean        8.622250          0.519317     0.293108        2.563333   \n",
       "std         1.784124          0.179246     0.196851        1.264527   \n",
       "min         4.600000          0.120000     0.000000        0.900000   \n",
       "25%         7.300000          0.390000     0.120000        1.900000   \n",
       "50%         8.300000          0.500000     0.285000        2.200000   \n",
       "75%         9.600000          0.630000     0.450000        2.700000   \n",
       "max        15.900000          1.330000     1.000000       15.500000   \n",
       "\n",
       "         chlorides  free sulfur dioxide  total sulfur dioxide      density  \\\n",
       "count  1200.000000          1200.000000           1200.000000  1200.000000   \n",
       "mean      0.089226            15.243333             46.883333     0.997055   \n",
       "std       0.048310            10.206171             33.935027     0.001882   \n",
       "min       0.012000             1.000000              6.000000     0.990070   \n",
       "25%       0.071000             7.000000             21.000000     0.996000   \n",
       "50%       0.080000            13.000000             38.000000     0.997015   \n",
       "75%       0.092000            21.000000             63.000000     0.998173   \n",
       "max       0.611000            68.000000            289.000000     1.003200   \n",
       "\n",
       "                pH    sulphates      alcohol      quality  \n",
       "count  1200.000000  1200.000000  1200.000000  1200.000000  \n",
       "mean      3.299175     0.665675    10.384833     5.665000  \n",
       "std       0.157441     0.175861     1.093145     0.809313  \n",
       "min       2.740000     0.330000     8.400000     3.000000  \n",
       "25%       3.197500     0.560000     9.500000     5.000000  \n",
       "50%       3.300000     0.620000    10.000000     6.000000  \n",
       "75%       3.390000     0.732500    11.000000     6.000000  \n",
       "max       4.010000     2.000000    14.900000     8.000000  "
      ]
     },
     "execution_count": 3,
     "metadata": {},
     "output_type": "execute_result"
    }
   ],
   "source": [
    "dataset.describe()"
   ]
  },
  {
   "cell_type": "markdown",
   "id": "31c0b04c",
   "metadata": {},
   "source": [
    "## 1.a Linear Regression"
   ]
  },
  {
   "cell_type": "markdown",
   "id": "8922fb6b",
   "metadata": {},
   "source": [
    "### Get the X and y"
   ]
  },
  {
   "cell_type": "code",
   "execution_count": 4,
   "id": "4aeee2b6",
   "metadata": {},
   "outputs": [],
   "source": [
    "X = dataset.iloc[:, :-1].values\n",
    "y = dataset.iloc[:, -1].values"
   ]
  },
  {
   "cell_type": "markdown",
   "id": "07a26d85",
   "metadata": {},
   "source": [
    "### Split the training and testing sets"
   ]
  },
  {
   "cell_type": "code",
   "execution_count": 5,
   "id": "db484431",
   "metadata": {},
   "outputs": [],
   "source": [
    "X_train, X_test, y_train, y_test = train_test_split(X, y, test_size = 0.3)"
   ]
  },
  {
   "cell_type": "markdown",
   "id": "e11a8a7b",
   "metadata": {},
   "source": [
    "### Fitting model"
   ]
  },
  {
   "cell_type": "code",
   "execution_count": 6,
   "id": "a33b8c71",
   "metadata": {},
   "outputs": [
    {
     "data": {
      "text/plain": [
       "LinearRegression()"
      ]
     },
     "execution_count": 6,
     "metadata": {},
     "output_type": "execute_result"
    }
   ],
   "source": [
    "regressor = LinearRegression()\n",
    "regressor.fit(X_train, y_train)"
   ]
  },
  {
   "cell_type": "markdown",
   "id": "f94efd6b",
   "metadata": {},
   "source": [
    "### Predict"
   ]
  },
  {
   "cell_type": "code",
   "execution_count": 7,
   "id": "02a8528f",
   "metadata": {},
   "outputs": [],
   "source": [
    "train_predict = regressor.predict(X_train)\n",
    "test_predict = regressor.predict(X_test)"
   ]
  },
  {
   "cell_type": "markdown",
   "id": "3e326c7c",
   "metadata": {},
   "source": [
    "### Print out intercept coefficient and coefficient"
   ]
  },
  {
   "cell_type": "code",
   "execution_count": 8,
   "id": "cf822430",
   "metadata": {
    "scrolled": true
   },
   "outputs": [
    {
     "name": "stdout",
     "output_type": "stream",
     "text": [
      "\n",
      "The linear regression equation: y = \n",
      "32.184 + 0.0638 * fixed acidity + -1.1851 * volatile acidity + -0.4266 * citric acid + 0.0326 * residual sugar + -1.4253 * chlorides + 0.0025 * free sulfur dioxide + -0.0032 * total sulfur dioxide + -29.523 * density + -0.0397 * pH + 0.7318 * sulphates + 0.2799 * alcohol "
     ]
    }
   ],
   "source": [
    "print('\\nThe linear regression equation: y = ')\n",
    "print(round(regressor.intercept_, 4), end=' ')\n",
    "co = list(regressor.coef_)\n",
    "for i in range(len(co)):\n",
    "    print(f'+ {round(co[i], 4)} * {dataset.columns[i]}', end=' ')"
   ]
  },
  {
   "cell_type": "code",
   "execution_count": 9,
   "id": "3023fdf1",
   "metadata": {},
   "outputs": [
    {
     "name": "stdout",
     "output_type": "stream",
     "text": [
      "CVScore: 25.023743283113376\n",
      "Mean Absolute Error: 0.5294533578492465\n",
      "Root Mean Squared Error: 0.6671890058224141\n",
      "RSquared: 0.3783638631118801\n",
      "Adj RSquared: 0.3726079729555086\n",
      "RSquared - Adj RSquared: 0.005755890156371457\n"
     ]
    }
   ],
   "source": [
    "print('CVScore:', cross_val_score(regressor, X, y, cv=10).mean()*100.0)\n",
    "print('Mean Absolute Error:', metrics.mean_absolute_error(y_test, test_predict))\n",
    "# print('Mean Squared Error:', metrics.mean_squared_error(y_test, test_pred))\n",
    "print('Root Mean Squared Error:', np.sqrt(metrics.mean_squared_error(y_test, test_predict)))\n",
    "\n",
    "X_addC = sm.add_constant(X)\n",
    "result = sm.OLS(y, X_addC).fit()\n",
    "print('RSquared:', result.rsquared)\n",
    "print('Adj RSquared:', result.rsquared_adj)\n",
    "print('RSquared - Adj RSquared:', result.rsquared - result.rsquared_adj)"
   ]
  },
  {
   "cell_type": "markdown",
   "id": "b2770abd",
   "metadata": {},
   "source": [
    "## 1.b Cross Validation"
   ]
  },
  {
   "cell_type": "code",
   "execution_count": 10,
   "id": "e6edcd10",
   "metadata": {},
   "outputs": [],
   "source": [
    "from sklearn.model_selection import KFold \n",
    "from sklearn.preprocessing import MinMaxScaler\n",
    "from sklearn.model_selection import cross_val_score \n",
    "from sklearn import metrics \n",
    "import statsmodels.api as sm"
   ]
  },
  {
   "cell_type": "markdown",
   "id": "85ba2167",
   "metadata": {},
   "source": [
    "### Get the intercept coeffiicient and coefficient\n",
    "\n",
    "The cross_val_score() function will be used to perform the evaluation, taking the dataset and cross-validation configuration and returning a list of scores calculated for each fold.\n",
    "\n",
    "So I use it to define which column will be the best to be a model."
   ]
  },
  {
   "cell_type": "code",
   "execution_count": 11,
   "id": "e2899532",
   "metadata": {},
   "outputs": [
    {
     "name": "stdout",
     "output_type": "stream",
     "text": [
      "\n",
      "Col: fixed acidity\n",
      "CVScore: -14.226511972310002\n",
      "Mean Absolute Error: 0.6250531809397132\n",
      "Root Mean Squared Error: 0.7646037309998936\n",
      "RSquared: 0.021924336795397514\n",
      "Adj RSquared: 0.02110791303646209\n",
      "\n",
      "Col: volatile acidity\n",
      "CVScore: 0.9751672117924538\n",
      "Mean Absolute Error: 0.5754427943009268\n",
      "Root Mean Squared Error: 0.7247186617306015\n",
      "RSquared: 0.14378690189385024\n",
      "Adj RSquared: 0.14307219980861974\n",
      "\n",
      "Col: citric acid\n",
      "CVScore: -10.482005234790941\n",
      "Mean Absolute Error: 0.6119285595377607\n",
      "Root Mean Squared Error: 0.752539523414577\n",
      "RSquared: 0.05173961897926804\n",
      "Adj RSquared: 0.050948082768065395\n",
      "\n",
      "Col: residual sugar\n",
      "CVScore: -16.4323483298996\n",
      "Mean Absolute Error: 0.6502538141809695\n",
      "Root Mean Squared Error: 0.7743427792497886\n",
      "RSquared: 0.002363951618359561\n",
      "Adj RSquared: 0.001531200325887383\n",
      "\n",
      "Col: chlorides\n",
      "CVScore: -14.876868994712886\n",
      "Mean Absolute Error: 0.6394283987542668\n",
      "Root Mean Squared Error: 0.772407042272651\n",
      "RSquared: 0.015563058669082475\n",
      "Adj RSquared: 0.014741324995183547\n",
      "\n",
      "Col: free sulfur dioxide\n",
      "CVScore: -16.26535973229542\n",
      "Mean Absolute Error: 0.6498682017661878\n",
      "Root Mean Squared Error: 0.7798871514067466\n",
      "RSquared: 0.0056159268076141355\n",
      "Adj RSquared: 0.004785890018638828\n",
      "\n",
      "Col: total sulfur dioxide\n",
      "CVScore: -10.282607014710422\n",
      "Mean Absolute Error: 0.6070513219502062\n",
      "Root Mean Squared Error: 0.7631747413738285\n",
      "RSquared: 0.051472834245971266\n",
      "Adj RSquared: 0.05068107534300459\n",
      "\n",
      "Col: density\n",
      "CVScore: -14.44394439882591\n",
      "Mean Absolute Error: 0.6291795858796755\n",
      "Root Mean Squared Error: 0.7651279863951111\n",
      "RSquared: 0.03717857887202214\n",
      "Adj RSquared: 0.036374888203300926\n",
      "\n",
      "Col: pH\n",
      "CVScore: -15.94574443441683\n",
      "Mean Absolute Error: 0.647541864081745\n",
      "Root Mean Squared Error: 0.7787289004024774\n",
      "RSquared: 0.005395209408014079\n",
      "Adj RSquared: 0.0045649883808087655\n",
      "\n",
      "Col: sulphates\n",
      "CVScore: -15.380683957404658\n",
      "Mean Absolute Error: 0.6315316415623092\n",
      "Root Mean Squared Error: 0.7689263485504073\n",
      "RSquared: 0.04460574768003145\n",
      "Adj RSquared: 0.04380825665138377\n",
      "\n",
      "Col: alcohol\n",
      "CVScore: 12.670040464670224\n",
      "Mean Absolute Error: 0.5031808152120568\n",
      "Root Mean Squared Error: 0.617049708770383\n",
      "RSquared: 0.2552381203994226\n",
      "Adj RSquared: 0.25461644938139205\n",
      "\n",
      "The column we need for this question:\n"
     ]
    },
    {
     "data": {
      "text/markdown": [
       "$$ alcohol $$"
      ],
      "text/plain": [
       "<IPython.core.display.Markdown object>"
      ]
     },
     "metadata": {},
     "output_type": "display_data"
    },
    {
     "name": "stdout",
     "output_type": "stream",
     "text": [
      "The linear regression equation:\n"
     ]
    },
    {
     "data": {
      "text/markdown": [
       "$$ 1.8412 + 0.3689 * alcohol $$"
      ],
      "text/plain": [
       "<IPython.core.display.Markdown object>"
      ]
     },
     "metadata": {},
     "output_type": "display_data"
    }
   ],
   "source": [
    "CVS_scores = []\n",
    "\n",
    "for col in range(11):\n",
    "    print('\\nCol:', dataset.columns[col])\n",
    "    X = np.array(dataset.iloc[:, col]).reshape(-1, 1)\n",
    "    y = dataset.iloc[:, -1]\n",
    "    \n",
    "#     scaler = MinMaxScaler(feature_range=(0, 1))\n",
    "#     X = scaler.fit_transform(X)\n",
    "    \n",
    "    model = LinearRegression()\n",
    "    CV = KFold(n_splits=10, random_state=42, shuffle=True)\n",
    "    \n",
    "    for train_idx, test_idx in CV.split(X):\n",
    "        X_train, X_test, y_train, y_test = X[train_idx], X[test_idx], y[train_idx], y[test_idx]\n",
    "        model.fit(X_train, y_train)\n",
    "    \n",
    "    train_pred = model.predict(X_train)\n",
    "    test_pred = model.predict(X_test)\n",
    "    \n",
    "    print('CVScore:', cross_val_score(model, X, y, cv = 10).mean()*100.0)\n",
    "    print('Mean Absolute Error:', metrics.mean_absolute_error(y_test, test_pred))\n",
    "    print('Root Mean Squared Error:', np.sqrt(metrics.mean_squared_error(y_test, test_pred)))\n",
    "    \n",
    "    X_addC = sm.add_constant(X)\n",
    "    result = sm.OLS(y, X_addC).fit()\n",
    "    print('RSquared:', result.rsquared)\n",
    "    print('Adj RSquared:', result.rsquared_adj)\n",
    "    \n",
    "    CVS_scores.append((dataset.columns[col], cross_val_score(model, X, y, cv = 10).mean()*100.0, model.intercept_, model.coef_[0]))\n",
    "    \n",
    "# first element: name of column\n",
    "# second element: CVscore\n",
    "# third element: intercept coefficient of model\n",
    "# fouth element: coefficient of model\n",
    "\n",
    "CVS_scores.sort(key=lambda tup: tup[1], reverse=True)\n",
    "print()\n",
    "print('The column we need for this question:')\n",
    "display(Markdown(f'$$ {CVS_scores[0][0]} $$'))\n",
    "print('The linear regression equation:')\n",
    "display(Markdown(f'$$ {round(CVS_scores[0][2], 4)} + {round(CVS_scores[0][3], 4)} * {CVS_scores[0][0]} $$'))"
   ]
  },
  {
   "cell_type": "markdown",
   "id": "cf02ec58",
   "metadata": {},
   "source": [
    "### 1.c Build your own model"
   ]
  },
  {
   "cell_type": "markdown",
   "id": "ef8d3751",
   "metadata": {},
   "source": [
    "### Correlation\n",
    "Taking features with correlation more than 0.05 as input x and quality as target variable y\n",
    "From the correlation, it is clear that __alcohol__ in the top which means it affects the most with the quality of wine."
   ]
  },
  {
   "cell_type": "code",
   "execution_count": 12,
   "id": "01444f81",
   "metadata": {
    "scrolled": true
   },
   "outputs": [
    {
     "name": "stdout",
     "output_type": "stream",
     "text": [
      "alcohol 0.5052109662303698\n",
      "volatile acidity 0.3791924338562807\n",
      "citric acid 0.22746344536928917\n",
      "total sulfur dioxide 0.22687625315570425\n",
      "sulphates 0.21120072840790807\n"
     ]
    }
   ],
   "source": [
    "correlations = dataset.corr()['quality'].drop('quality')\n",
    "\n",
    "def get_features(correlation_threshold):\n",
    "    abs_corrs = correlations.abs()\n",
    "    high_correlations = abs_corrs\n",
    "    list((abs_corrs > correlation_threshold).index.values)\n",
    "    return high_correlations\n",
    "\n",
    "features = get_features(0.05).sort_values(0, False)\n",
    "get_features_for_dataset = [x for index, x in enumerate(list(features.keys())) if index < 5]\n",
    "\n",
    "for x in get_features_for_dataset:\n",
    "    print(x, features[x])"
   ]
  },
  {
   "cell_type": "markdown",
   "id": "967003db",
   "metadata": {},
   "source": [
    "### Build model from correlation"
   ]
  },
  {
   "cell_type": "code",
   "execution_count": 13,
   "id": "fa73cb38",
   "metadata": {},
   "outputs": [],
   "source": [
    "from sklearn.model_selection import KFold, StratifiedKFold, cross_val_score\n",
    "from sklearn import linear_model, tree, ensemble"
   ]
  },
  {
   "cell_type": "markdown",
   "id": "fab90703",
   "metadata": {},
   "source": [
    "#### Get the X and y, scaling data"
   ]
  },
  {
   "cell_type": "code",
   "execution_count": 14,
   "id": "6890201c",
   "metadata": {},
   "outputs": [],
   "source": [
    "XCorr = dataset[get_features_for_dataset]\n",
    "yCorr = dataset.iloc[:, -1]\n",
    "\n",
    "scalerCorr = MinMaxScaler(feature_range=(0, 1))\n",
    "XCorr = scalerCorr.fit_transform(XCorr)"
   ]
  },
  {
   "cell_type": "markdown",
   "id": "c9b622b3",
   "metadata": {},
   "source": [
    "#### Build Model 1"
   ]
  },
  {
   "cell_type": "code",
   "execution_count": 15,
   "id": "715e11f5",
   "metadata": {},
   "outputs": [
    {
     "name": "stdout",
     "output_type": "stream",
     "text": [
      "CVScore: 24.320568221972387\n",
      "Mean Absolute Error: 0.444628085300261\n",
      "Root Mean Squared Error: 0.5788243593022208\n",
      "RSquared: 0.3618527333960505\n",
      "Adj RSquared: 0.35918042490943436\n",
      "RSquared - Adj RSquared: 0.0026723084866161484\n",
      "\n",
      "The linear regression equation: y = \n",
      "5.4879 + 1.9735 * alcohol + -1.4188 * volatile acidity + -0.048 * citric acid + -0.8897 * total sulfur dioxide + 0.9546 * sulphates "
     ]
    }
   ],
   "source": [
    "modelCorr = LinearRegression()\n",
    "CVCorr = KFold(n_splits= 10, random_state=42, shuffle=True)\n",
    "\n",
    "for train_idx, test_idx in CVCorr.split(XCorr):\n",
    "    XCorr_train, XCorr_test, yCorr_train, yCorr_test = XCorr[train_idx], XCorr[test_idx], yCorr[train_idx], yCorr[test_idx]\n",
    "    modelCorr.fit(XCorr_train, yCorr_train)\n",
    "    \n",
    "trainCorr_pred = modelCorr.predict(XCorr_train)\n",
    "testCorr_pred = modelCorr.predict(XCorr_test)\n",
    "\n",
    "print('CVScore:', cross_val_score(modelCorr, XCorr, yCorr, cv=10).mean()*100.0)\n",
    "print('Mean Absolute Error:', metrics.mean_absolute_error(yCorr_test, testCorr_pred))\n",
    "# print('Mean Squared Error:', metrics.mean_squared_error(y_test, test_pred))\n",
    "print('Root Mean Squared Error:', np.sqrt(metrics.mean_squared_error(yCorr_test, testCorr_pred)))\n",
    "\n",
    "X_addC = sm.add_constant(XCorr)\n",
    "result = sm.OLS(yCorr, X_addC).fit()\n",
    "print('RSquared:', result.rsquared)\n",
    "print('Adj RSquared:', result.rsquared_adj)\n",
    "print('RSquared - Adj RSquared:', result.rsquared - result.rsquared_adj)\n",
    "\n",
    "print('\\nThe linear regression equation: y = ')\n",
    "print(round(modelCorr.intercept_, 4), end=' ')\n",
    "co = list(modelCorr.coef_)\n",
    "# print(co)\n",
    "# print(get_features_for_dataset)\n",
    "for i in range(len(co)):\n",
    "    print(f'+ {round(co[i], 4)} * {get_features_for_dataset[i]}', end=' ')"
   ]
  },
  {
   "cell_type": "markdown",
   "id": "706a492d",
   "metadata": {},
   "source": [
    "### Build a model from 1.b\n",
    "Furthermore, these columns are in the top 5 of the suitable one to build a model. So I decide to build a model and compare many values."
   ]
  },
  {
   "cell_type": "code",
   "execution_count": 16,
   "id": "af555d53",
   "metadata": {},
   "outputs": [],
   "source": [
    "get_features_for_dataset = [x for index, x in enumerate(CVS_scores) if index < 5]\n",
    "get_features_for_dataset = list(map(lambda x: x[0], get_features_for_dataset))"
   ]
  },
  {
   "cell_type": "code",
   "execution_count": 17,
   "id": "5b0670c0",
   "metadata": {},
   "outputs": [],
   "source": [
    "X1b = dataset[get_features_for_dataset]\n",
    "y1b = dataset.iloc[:, -1]\n",
    "\n",
    "scaler1b = MinMaxScaler(feature_range=(0, 1))\n",
    "X1b = scaler1b.fit_transform(X1b)"
   ]
  },
  {
   "cell_type": "markdown",
   "id": "3436518a",
   "metadata": {},
   "source": [
    "####  Build model 2"
   ]
  },
  {
   "cell_type": "code",
   "execution_count": 18,
   "id": "00cd75d0",
   "metadata": {},
   "outputs": [
    {
     "name": "stdout",
     "output_type": "stream",
     "text": [
      "CVScore: 24.276187813358778\n",
      "Mean Absolute Error: 0.4590994324974596\n",
      "Root Mean Squared Error: 0.5895053935566336\n",
      "RSquared: 0.35314046827743495\n",
      "Adj RSquared: 0.35043167626854643\n",
      "RSquared - Adj RSquared: 0.0027087920088885165\n",
      "\n",
      "The linear regression equation: y = \n",
      "5.5524 + 2.0755 * alcohol + -1.5991 * volatile acidity + -0.6942 * total sulfur dioxide + -0.2936 * citric acid + 0.5628 * fixed acidity "
     ]
    }
   ],
   "source": [
    "model1b = LinearRegression()\n",
    "CV1b = KFold(n_splits= 10, random_state=42, shuffle=True)\n",
    "\n",
    "for train_idx, test_idx in CV1b.split(X1b):\n",
    "    X1b_train, X1b_test, y1b_train, y1b_test = X1b[train_idx], X1b[test_idx], y1b[train_idx], y1b[test_idx]\n",
    "    model1b.fit(X1b_train, y1b_train)\n",
    "    \n",
    "train1b_pred = model1b.predict(X1b_train)\n",
    "test1b_pred = model1b.predict(X1b_test)\n",
    "\n",
    "print('CVScore:', cross_val_score(model1b, X1b, y1b, cv=10).mean()*100.0)\n",
    "print('Mean Absolute Error:', metrics.mean_absolute_error(y1b_test, test1b_pred))\n",
    "# print('Mean Squared Error:', metrics.mean_squared_error(y_test, test_pred))\n",
    "print('Root Mean Squared Error:', np.sqrt(metrics.mean_squared_error(y1b_test, test1b_pred)))\n",
    "\n",
    "X_addC = sm.add_constant(X1b)\n",
    "result = sm.OLS(y1b, X_addC).fit()\n",
    "print('RSquared:', result.rsquared)\n",
    "print('Adj RSquared:', result.rsquared_adj)\n",
    "print('RSquared - Adj RSquared:', result.rsquared - result.rsquared_adj)\n",
    "\n",
    "print('\\nThe linear regression equation: y = ')\n",
    "print(round(model1b.intercept_, 4), end=' ')\n",
    "co = list(model1b.coef_)\n",
    "# print(co)\n",
    "# print(get_features_for_dataset)\n",
    "for i in range(len(co)):\n",
    "    print(f'+ {round(co[i], 4)} * {get_features_for_dataset[i]}', end=' ')"
   ]
  },
  {
   "cell_type": "code",
   "execution_count": null,
   "id": "df8f2069",
   "metadata": {},
   "outputs": [],
   "source": []
  },
  {
   "cell_type": "markdown",
   "id": "e3c98f72",
   "metadata": {},
   "source": [
    "### Build model 3"
   ]
  },
  {
   "cell_type": "code",
   "execution_count": 19,
   "id": "e069e304",
   "metadata": {},
   "outputs": [],
   "source": [
    "get_features_for_dataset = [list(dataset.columns)[10], list(dataset.columns)[1], list(dataset.columns)[6], list(dataset.columns)[9]]"
   ]
  },
  {
   "cell_type": "code",
   "execution_count": 20,
   "id": "9533ef7e",
   "metadata": {},
   "outputs": [],
   "source": [
    "X4 = dataset[get_features_for_dataset]\n",
    "y4 = dataset.iloc[:, -1]\n",
    "\n",
    "scaler4 = MinMaxScaler(feature_range=(0, 1))\n",
    "X4 = scaler4.fit_transform(X4)"
   ]
  },
  {
   "cell_type": "code",
   "execution_count": 21,
   "id": "a3a0bed4",
   "metadata": {},
   "outputs": [
    {
     "name": "stdout",
     "output_type": "stream",
     "text": [
      "CVScore: 24.387365326606474\n",
      "Mean Absolute Error: 0.44497654218663407\n",
      "Root Mean Squared Error: 0.5796540951524313\n",
      "RSquared: 0.3615747763884387\n",
      "Adj RSquared: 0.35943778819224936\n",
      "RSquared - Adj RSquared: 0.002136988196189349\n",
      "\n",
      "The linear regression equation: y = \n",
      "5.468 + 1.9712 * alcohol + -1.3871 * volatile acidity + -0.8947 * total sulfur dioxide + 0.9393 * sulphates "
     ]
    }
   ],
   "source": [
    "model4 = LinearRegression()\n",
    "CV4 = KFold(n_splits= 10, random_state=42, shuffle=True)\n",
    "\n",
    "for train_idx, test_idx in CV4.split(X4):\n",
    "    X4_train, X4_test, y4_train, y4_test = X4[train_idx], X4[test_idx], y4[train_idx], y4[test_idx]\n",
    "    model4.fit(X4_train, y4_train)\n",
    "    \n",
    "train4_pred = model4.predict(X4_train)\n",
    "test4_pred = model4.predict(X4_test)\n",
    "\n",
    "print('CVScore:', cross_val_score(model4, X4, y4, cv=10).mean()*100.0)\n",
    "print('Mean Absolute Error:', metrics.mean_absolute_error(y4_test, test4_pred))\n",
    "# print('Mean Squared Error:', metrics.mean_squared_error(y_test, test_pred))\n",
    "print('Root Mean Squared Error:', np.sqrt(metrics.mean_squared_error(y4_test, test4_pred)))\n",
    "\n",
    "X_addC = sm.add_constant(X4)\n",
    "result = sm.OLS(y4, X_addC).fit()\n",
    "print('RSquared:', result.rsquared)\n",
    "print('Adj RSquared:', result.rsquared_adj)\n",
    "print('RSquared - Adj RSquared:', result.rsquared - result.rsquared_adj)\n",
    "\n",
    "print('\\nThe linear regression equation: y = ')\n",
    "print(round(model4.intercept_, 4), end=' ')\n",
    "co = list(model4.coef_)\n",
    "# print(co)\n",
    "# print(get_features_for_dataset)\n",
    "for i in range(len(co)):\n",
    "    print(f'+ {round(co[i], 4)} * {get_features_for_dataset[i]}', end=' ')"
   ]
  },
  {
   "cell_type": "code",
   "execution_count": null,
   "id": "75277fcc",
   "metadata": {},
   "outputs": [],
   "source": []
  },
  {
   "cell_type": "code",
   "execution_count": null,
   "id": "89e6878a",
   "metadata": {},
   "outputs": [],
   "source": []
  },
  {
   "cell_type": "code",
   "execution_count": null,
   "id": "da7e211a",
   "metadata": {},
   "outputs": [],
   "source": []
  }
 ],
 "metadata": {
  "kernelspec": {
   "display_name": "Python 3",
   "language": "python",
   "name": "python3"
  },
  "language_info": {
   "codemirror_mode": {
    "name": "ipython",
    "version": 3
   },
   "file_extension": ".py",
   "mimetype": "text/x-python",
   "name": "python",
   "nbconvert_exporter": "python",
   "pygments_lexer": "ipython3",
   "version": "3.8.8"
  }
 },
 "nbformat": 4,
 "nbformat_minor": 5
}
